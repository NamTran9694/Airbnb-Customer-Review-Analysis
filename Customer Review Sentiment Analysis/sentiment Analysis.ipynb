{
 "cells": [
  {
   "cell_type": "code",
   "execution_count": 1,
   "id": "f12f6686",
   "metadata": {},
   "outputs": [],
   "source": [
    "import nltk\n",
    "import pandas as pd\n",
    "from nltk.tokenize import word_tokenize\n",
    "from nltk.stem import WordNetLemmatizer\n",
    "from nltk.sentiment import SentimentIntensityAnalyzer\n",
    "from wordcloud import WordCloud, STOPWORDS\n",
    "import matplotlib.pyplot as plt\n",
    "import seaborn as sns\n",
    "import warnings\n",
    "warnings.filterwarnings('ignore')"
   ]
  },
  {
   "cell_type": "code",
   "execution_count": 2,
   "id": "7167dcc7",
   "metadata": {},
   "outputs": [
    {
     "data": {
      "text/html": [
       "<div>\n",
       "<style scoped>\n",
       "    .dataframe tbody tr th:only-of-type {\n",
       "        vertical-align: middle;\n",
       "    }\n",
       "\n",
       "    .dataframe tbody tr th {\n",
       "        vertical-align: top;\n",
       "    }\n",
       "\n",
       "    .dataframe thead th {\n",
       "        text-align: right;\n",
       "    }\n",
       "</style>\n",
       "<table border=\"1\" class=\"dataframe\">\n",
       "  <thead>\n",
       "    <tr style=\"text-align: right;\">\n",
       "      <th></th>\n",
       "      <th>listing_id</th>\n",
       "      <th>id</th>\n",
       "      <th>date</th>\n",
       "      <th>reviewer_id</th>\n",
       "      <th>reviewer_name</th>\n",
       "      <th>comments</th>\n",
       "      <th>host_is_superhost</th>\n",
       "      <th>review_scores_value</th>\n",
       "    </tr>\n",
       "  </thead>\n",
       "  <tbody>\n",
       "    <tr>\n",
       "      <th>0</th>\n",
       "      <td>109</td>\n",
       "      <td>449036</td>\n",
       "      <td>2011-08-15</td>\n",
       "      <td>927861</td>\n",
       "      <td>Edwin</td>\n",
       "      <td>The host canceled my reservation the day befor...</td>\n",
       "      <td>f</td>\n",
       "      <td>4.00</td>\n",
       "    </tr>\n",
       "    <tr>\n",
       "      <th>1</th>\n",
       "      <td>109</td>\n",
       "      <td>74506539</td>\n",
       "      <td>2016-05-15</td>\n",
       "      <td>22509885</td>\n",
       "      <td>Jenn</td>\n",
       "      <td>Me and two friends stayed for four and a half ...</td>\n",
       "      <td>f</td>\n",
       "      <td>4.00</td>\n",
       "    </tr>\n",
       "    <tr>\n",
       "      <th>2</th>\n",
       "      <td>2708</td>\n",
       "      <td>13994902</td>\n",
       "      <td>2014-06-09</td>\n",
       "      <td>10905424</td>\n",
       "      <td>Kuberan</td>\n",
       "      <td>i had a wonderful stay. Everything from start ...</td>\n",
       "      <td>t</td>\n",
       "      <td>4.85</td>\n",
       "    </tr>\n",
       "    <tr>\n",
       "      <th>3</th>\n",
       "      <td>2708</td>\n",
       "      <td>14606598</td>\n",
       "      <td>2014-06-23</td>\n",
       "      <td>2247288</td>\n",
       "      <td>Camilla</td>\n",
       "      <td>Charles is just amazing and he made my stay sp...</td>\n",
       "      <td>t</td>\n",
       "      <td>4.85</td>\n",
       "    </tr>\n",
       "    <tr>\n",
       "      <th>4</th>\n",
       "      <td>2708</td>\n",
       "      <td>39597339</td>\n",
       "      <td>2015-07-25</td>\n",
       "      <td>27974696</td>\n",
       "      <td>Fallon</td>\n",
       "      <td>Staying with Chas was an absolute pleasure. He...</td>\n",
       "      <td>t</td>\n",
       "      <td>4.85</td>\n",
       "    </tr>\n",
       "  </tbody>\n",
       "</table>\n",
       "</div>"
      ],
      "text/plain": [
       "   listing_id        id        date  reviewer_id reviewer_name  \\\n",
       "0         109    449036  2011-08-15       927861         Edwin   \n",
       "1         109  74506539  2016-05-15     22509885          Jenn   \n",
       "2        2708  13994902  2014-06-09     10905424       Kuberan   \n",
       "3        2708  14606598  2014-06-23      2247288       Camilla   \n",
       "4        2708  39597339  2015-07-25     27974696        Fallon   \n",
       "\n",
       "                                            comments host_is_superhost  \\\n",
       "0  The host canceled my reservation the day befor...                 f   \n",
       "1  Me and two friends stayed for four and a half ...                 f   \n",
       "2  i had a wonderful stay. Everything from start ...                 t   \n",
       "3  Charles is just amazing and he made my stay sp...                 t   \n",
       "4  Staying with Chas was an absolute pleasure. He...                 t   \n",
       "\n",
       "   review_scores_value  \n",
       "0                 4.00  \n",
       "1                 4.00  \n",
       "2                 4.85  \n",
       "3                 4.85  \n",
       "4                 4.85  "
      ]
     },
     "execution_count": 2,
     "metadata": {},
     "output_type": "execute_result"
    }
   ],
   "source": [
    "Review_df = pd.read_csv(\"ReviewsNew.csv\")\n",
    "Review_df.head()"
   ]
  },
  {
   "cell_type": "code",
   "execution_count": 3,
   "id": "f84ef624",
   "metadata": {},
   "outputs": [],
   "source": [
    "import os\n",
    "import matplotlib.pyplot as plt\n",
    "from wordcloud import WordCloud"
   ]
  },
  {
   "cell_type": "markdown",
   "id": "e1bc97c2",
   "metadata": {},
   "source": [
    "## Cleaning Data"
   ]
  },
  {
   "cell_type": "code",
   "execution_count": 4,
   "id": "7276b86b",
   "metadata": {},
   "outputs": [
    {
     "data": {
      "text/plain": [
       "listing_id                0\n",
       "id                        0\n",
       "date                      0\n",
       "reviewer_id               0\n",
       "reviewer_name             2\n",
       "comments               1107\n",
       "host_is_superhost         0\n",
       "review_scores_value     506\n",
       "dtype: int64"
      ]
     },
     "execution_count": 4,
     "metadata": {},
     "output_type": "execute_result"
    }
   ],
   "source": [
    "# Checking for missing data\n",
    "Review_df.isnull().sum()"
   ]
  },
  {
   "cell_type": "code",
   "execution_count": 5,
   "id": "63a4b5e0",
   "metadata": {},
   "outputs": [],
   "source": [
    "# Drop NA\n",
    "Review_Clean = Review_df.dropna()"
   ]
  },
  {
   "cell_type": "code",
   "execution_count": 6,
   "id": "7e26f18e",
   "metadata": {},
   "outputs": [
    {
     "name": "stdout",
     "output_type": "stream",
     "text": [
      "Number of duplicates:  0\n"
     ]
    }
   ],
   "source": [
    "# Checking for duplicates\n",
    "print(\"Number of duplicates: \", Review_Clean.duplicated(keep = \"first\").sum())"
   ]
  },
  {
   "cell_type": "code",
   "execution_count": 7,
   "id": "ae58c058",
   "metadata": {},
   "outputs": [
    {
     "data": {
      "text/plain": [
       "(1142258, 8)"
      ]
     },
     "execution_count": 7,
     "metadata": {},
     "output_type": "execute_result"
    }
   ],
   "source": [
    "Review_Clean.shape"
   ]
  },
  {
   "cell_type": "code",
   "execution_count": 8,
   "id": "bd754720",
   "metadata": {},
   "outputs": [
    {
     "data": {
      "text/plain": [
       "listing_id               int64\n",
       "id                       int64\n",
       "date                    object\n",
       "reviewer_id              int64\n",
       "reviewer_name           object\n",
       "comments                object\n",
       "host_is_superhost       object\n",
       "review_scores_value    float64\n",
       "dtype: object"
      ]
     },
     "execution_count": 8,
     "metadata": {},
     "output_type": "execute_result"
    }
   ],
   "source": [
    "Review_Clean.dtypes"
   ]
  },
  {
   "cell_type": "markdown",
   "id": "80c3c7b2",
   "metadata": {},
   "source": [
    "## Text Cleaning"
   ]
  },
  {
   "cell_type": "code",
   "execution_count": 6,
   "id": "78ffcdb8",
   "metadata": {},
   "outputs": [],
   "source": [
    "import re\n",
    "import string\n",
    "\n",
    "def text_cleaning(text):\n",
    "    \n",
    "    # Covert Upper case to lower case\n",
    "    text = text.lower()\n",
    "    \n",
    "    ## Decontract text\n",
    "    # specific\n",
    "    text = re.sub(r\"won\\'t\", \"will not\", text)\n",
    "    text = re.sub(r\"can\\'t\", \"can not\", text)\n",
    "    text = re.sub(r\"won\\’t\", \"will not\", text)\n",
    "    text = re.sub(r\"can\\’t\", \"can not\", text)\n",
    "    text = re.sub(r\"\\'t've\", \" not have\", text)\n",
    "    text = re.sub(r\"\\'d've\", \" would have\", text)\n",
    "    text = re.sub(r\"\\'clock\", \"f the clock\", text)\n",
    "    text = re.sub(r\"\\'cause\", \" because\", text)\n",
    "    \n",
    "    # general\n",
    "    text = re.sub(r\"n\\'t\", \" not\", text)\n",
    "    text = re.sub(r\"\\'re\", \" are\", text)\n",
    "    text = re.sub(r\"\\'s\", \" is\", text)\n",
    "    text = re.sub(r\"\\'d\", \" would\", text)\n",
    "    text = re.sub(r\"\\'ll\", \" will\", text)\n",
    "    text = re.sub(r\"\\'t\", \" not\", text)\n",
    "    text = re.sub(r\"\\'ve\", \" have\", text)\n",
    "    text = re.sub(r\"\\'m\", \" am\", text)\n",
    "    text = re.sub(r\"n\\’t\", \" not\", text)\n",
    "    text = re.sub(r\"\\’re\", \" are\", text)\n",
    "    text = re.sub(r\"\\’s\", \" is\", text)\n",
    "    text = re.sub(r\"\\’d\", \" would\", text)\n",
    "    text = re.sub(r\"\\’ll\", \" will\", text)\n",
    "    text = re.sub(r\"\\’t\", \" not\", text)\n",
    "    text = re.sub(r\"\\’ve\", \" have\", text)\n",
    "    text = re.sub(r\"\\’m\", \" am\", text) \n",
    "    \n",
    "    # remove all puctuation\n",
    "    text = re.sub('\\[.*?\\]', '', text)\n",
    "    text = re.sub('[%s]' % re.escape(string.punctuation), '', text)\n",
    "    #text = re.sub('\\w*\\d\\w*', '', text) #remove digit/number\n",
    "    \n",
    "    # remove all special characters\n",
    "    text = re.sub(r'\\W', ' ', text)\n",
    "\n",
    "    # remove break\n",
    "    text = re.sub('[‘’“”…]', '', text)\n",
    "    text = re.sub('\\n', '', text)\n",
    "    \n",
    "    # remove prefixed 'b'\n",
    "    text = re.sub(r'^b\\s+', '', text)\n",
    "    \n",
    "    # substituting multiple spaces with single space\n",
    "    text = re.sub(r'\\s+', ' ', text, flags=re.I)\n",
    "    \n",
    "    return text"
   ]
  },
  {
   "cell_type": "code",
   "execution_count": 7,
   "id": "17bece5a",
   "metadata": {},
   "outputs": [],
   "source": [
    "Review_Clean['comments'] = Review_Clean['comments'].apply(lambda x: text_cleaning(x))"
   ]
  },
  {
   "cell_type": "markdown",
   "id": "dc1cff99",
   "metadata": {},
   "source": [
    "# Sentiment Analysis"
   ]
  },
  {
   "cell_type": "code",
   "execution_count": 8,
   "id": "dc15d709",
   "metadata": {},
   "outputs": [
    {
     "name": "stderr",
     "output_type": "stream",
     "text": [
      "[nltk_data] Downloading package punkt to\n",
      "[nltk_data]     C:\\Users\\hoain\\AppData\\Roaming\\nltk_data...\n",
      "[nltk_data]   Package punkt is already up-to-date!\n"
     ]
    },
    {
     "data": {
      "text/plain": [
       "True"
      ]
     },
     "execution_count": 8,
     "metadata": {},
     "output_type": "execute_result"
    }
   ],
   "source": [
    "from nltk.corpus import stopwords\n",
    "import os\n",
    "from wordcloud import WordCloud\n",
    "import matplotlib.pyplot as plt\n",
    "%matplotlib inline\n",
    "import nltk\n",
    "nltk.download('punkt')"
   ]
  },
  {
   "cell_type": "markdown",
   "id": "420d8756",
   "metadata": {},
   "source": [
    "### Convert Lower Case, Remove Punctuation, Number and Tokenize"
   ]
  },
  {
   "cell_type": "code",
   "execution_count": 9,
   "id": "53d3abdd",
   "metadata": {},
   "outputs": [],
   "source": [
    "def tokenize(text):\n",
    "    text = text.lower()\n",
    "    text = nltk.word_tokenize(text)\n",
    "    text = [word for word in text if word.isalpha()]\n",
    "    return text\n"
   ]
  },
  {
   "cell_type": "code",
   "execution_count": 10,
   "id": "afb7fd5f",
   "metadata": {},
   "outputs": [],
   "source": [
    "Review_Clean['comments'] = Review_Clean['comments'].apply(lambda x: tokenize(x))"
   ]
  },
  {
   "cell_type": "markdown",
   "id": "300f9f0d",
   "metadata": {},
   "source": [
    "### Remove Stopwords"
   ]
  },
  {
   "cell_type": "code",
   "execution_count": 11,
   "id": "d35cafac",
   "metadata": {},
   "outputs": [
    {
     "name": "stderr",
     "output_type": "stream",
     "text": [
      "[nltk_data] Downloading package stopwords to\n",
      "[nltk_data]     C:\\Users\\hoain\\AppData\\Roaming\\nltk_data...\n",
      "[nltk_data]   Package stopwords is already up-to-date!\n"
     ]
    }
   ],
   "source": [
    "nltk.download('stopwords')\n",
    "StopWords = stopwords.words('english')\n",
    "StopWords.append('room')\n",
    "StopWords.append('room')\n",
    "StopWords.append('hotel')\n",
    "StopWords.append('place')\n",
    "StopWords.append('will')\n",
    "StopWords.append('stay')\n",
    "StopWords.append('br')\n",
    "StopWords.append('b')\n",
    "StopWords.append('guest')\n",
    "StopWords.append('house')\n",
    "StopWords.append('apartment')"
   ]
  },
  {
   "cell_type": "code",
   "execution_count": 12,
   "id": "84cfb24c",
   "metadata": {},
   "outputs": [],
   "source": [
    "def remove_stopwords(text):\n",
    "    text = [w for w in text if w not in StopWords]\n",
    "    return ' '.join(text)"
   ]
  },
  {
   "cell_type": "code",
   "execution_count": 13,
   "id": "f9334bb4",
   "metadata": {},
   "outputs": [],
   "source": [
    "Review_Clean['comments'] = Review_Clean['comments'].apply(lambda x: remove_stopwords(x))"
   ]
  },
  {
   "cell_type": "markdown",
   "id": "74cae519",
   "metadata": {},
   "source": [
    "### Chunking - Adjective"
   ]
  },
  {
   "cell_type": "code",
   "execution_count": 14,
   "id": "baa3158f",
   "metadata": {},
   "outputs": [],
   "source": [
    "def pre_process_adj(text):\n",
    "    words = nltk.word_tokenize(text)\n",
    "    tagged = nltk.pos_tag(words)\n",
    "    adjectives = [word for word, pos in tagged\n",
    "                 if (pos == 'JJ')]\n",
    "    return adjectives"
   ]
  },
  {
   "cell_type": "code",
   "execution_count": 15,
   "id": "6dbe795d",
   "metadata": {},
   "outputs": [
    {
     "name": "stderr",
     "output_type": "stream",
     "text": [
      "[nltk_data] Downloading package averaged_perceptron_tagger to\n",
      "[nltk_data]     C:\\Users\\hoain\\AppData\\Roaming\\nltk_data...\n",
      "[nltk_data]   Package averaged_perceptron_tagger is already up-to-\n",
      "[nltk_data]       date!\n"
     ]
    },
    {
     "data": {
      "text/plain": [
       "True"
      ]
     },
     "execution_count": 15,
     "metadata": {},
     "output_type": "execute_result"
    }
   ],
   "source": [
    "nltk.download('averaged_perceptron_tagger')"
   ]
  },
  {
   "cell_type": "code",
   "execution_count": 16,
   "id": "abacc5dd",
   "metadata": {},
   "outputs": [],
   "source": [
    "Review_Clean['comments.adj'] = Review_Clean['comments'].apply(lambda x: pre_process_adj(x))"
   ]
  },
  {
   "cell_type": "code",
   "execution_count": 17,
   "id": "0d0f931b",
   "metadata": {},
   "outputs": [
    {
     "data": {
      "text/html": [
       "<div>\n",
       "<style scoped>\n",
       "    .dataframe tbody tr th:only-of-type {\n",
       "        vertical-align: middle;\n",
       "    }\n",
       "\n",
       "    .dataframe tbody tr th {\n",
       "        vertical-align: top;\n",
       "    }\n",
       "\n",
       "    .dataframe thead th {\n",
       "        text-align: right;\n",
       "    }\n",
       "</style>\n",
       "<table border=\"1\" class=\"dataframe\">\n",
       "  <thead>\n",
       "    <tr style=\"text-align: right;\">\n",
       "      <th></th>\n",
       "      <th>listing_id</th>\n",
       "      <th>id</th>\n",
       "      <th>date</th>\n",
       "      <th>reviewer_id</th>\n",
       "      <th>reviewer_name</th>\n",
       "      <th>comments</th>\n",
       "      <th>host_is_superhost</th>\n",
       "      <th>review_scores_value</th>\n",
       "      <th>comments.adj</th>\n",
       "    </tr>\n",
       "  </thead>\n",
       "  <tbody>\n",
       "    <tr>\n",
       "      <th>0</th>\n",
       "      <td>109</td>\n",
       "      <td>449036</td>\n",
       "      <td>2011-08-15</td>\n",
       "      <td>927861</td>\n",
       "      <td>Edwin</td>\n",
       "      <td>host canceled reservation day arrival</td>\n",
       "      <td>f</td>\n",
       "      <td>4.00</td>\n",
       "      <td>[]</td>\n",
       "    </tr>\n",
       "    <tr>\n",
       "      <th>1</th>\n",
       "      <td>109</td>\n",
       "      <td>74506539</td>\n",
       "      <td>2016-05-15</td>\n",
       "      <td>22509885</td>\n",
       "      <td>Jenn</td>\n",
       "      <td>two friends stayed four half months great comf...</td>\n",
       "      <td>f</td>\n",
       "      <td>4.00</td>\n",
       "      <td>[half, great, comfortable, short, overall, great]</td>\n",
       "    </tr>\n",
       "    <tr>\n",
       "      <th>2</th>\n",
       "      <td>2708</td>\n",
       "      <td>13994902</td>\n",
       "      <td>2014-06-09</td>\n",
       "      <td>10905424</td>\n",
       "      <td>Kuberan</td>\n",
       "      <td>wonderful everything start end perfectbrbrwill...</td>\n",
       "      <td>t</td>\n",
       "      <td>4.85</td>\n",
       "      <td>[wonderful, start]</td>\n",
       "    </tr>\n",
       "    <tr>\n",
       "      <th>3</th>\n",
       "      <td>2708</td>\n",
       "      <td>14606598</td>\n",
       "      <td>2014-06-23</td>\n",
       "      <td>2247288</td>\n",
       "      <td>Camilla</td>\n",
       "      <td>charles amazing made special nice helpful abso...</td>\n",
       "      <td>t</td>\n",
       "      <td>4.85</td>\n",
       "      <td>[special, nice, polite, quiet, tidy, clean, ta...</td>\n",
       "    </tr>\n",
       "    <tr>\n",
       "      <th>4</th>\n",
       "      <td>2708</td>\n",
       "      <td>39597339</td>\n",
       "      <td>2015-07-25</td>\n",
       "      <td>27974696</td>\n",
       "      <td>Fallon</td>\n",
       "      <td>staying chas absolute pleasure accommodating r...</td>\n",
       "      <td>t</td>\n",
       "      <td>4.85</td>\n",
       "      <td>[absolute, respectful, personal, nice, helpful...</td>\n",
       "    </tr>\n",
       "  </tbody>\n",
       "</table>\n",
       "</div>"
      ],
      "text/plain": [
       "   listing_id        id        date  reviewer_id reviewer_name  \\\n",
       "0         109    449036  2011-08-15       927861         Edwin   \n",
       "1         109  74506539  2016-05-15     22509885          Jenn   \n",
       "2        2708  13994902  2014-06-09     10905424       Kuberan   \n",
       "3        2708  14606598  2014-06-23      2247288       Camilla   \n",
       "4        2708  39597339  2015-07-25     27974696        Fallon   \n",
       "\n",
       "                                            comments host_is_superhost  \\\n",
       "0              host canceled reservation day arrival                 f   \n",
       "1  two friends stayed four half months great comf...                 f   \n",
       "2  wonderful everything start end perfectbrbrwill...                 t   \n",
       "3  charles amazing made special nice helpful abso...                 t   \n",
       "4  staying chas absolute pleasure accommodating r...                 t   \n",
       "\n",
       "   review_scores_value                                       comments.adj  \n",
       "0                 4.00                                                 []  \n",
       "1                 4.00  [half, great, comfortable, short, overall, great]  \n",
       "2                 4.85                                 [wonderful, start]  \n",
       "3                 4.85  [special, nice, polite, quiet, tidy, clean, ta...  \n",
       "4                 4.85  [absolute, respectful, personal, nice, helpful...  "
      ]
     },
     "execution_count": 17,
     "metadata": {},
     "output_type": "execute_result"
    }
   ],
   "source": [
    "Review_Clean.head()"
   ]
  },
  {
   "cell_type": "markdown",
   "id": "e7df79cf",
   "metadata": {},
   "source": [
    "### Potter Stemming - Vader"
   ]
  },
  {
   "cell_type": "code",
   "execution_count": 21,
   "id": "792158ff",
   "metadata": {},
   "outputs": [],
   "source": [
    "import string\n",
    "from nltk.stem import PorterStemmer\n",
    "\n",
    "# Function to stem the words\n",
    "def stem(words):\n",
    "    stemmer = PorterStemmer()\n",
    "    stem_words =[]\n",
    "    for x in words:\n",
    "        stem_words.append(stemmer.stem(x))\n",
    "    return ' '.join(stem_words)"
   ]
  },
  {
   "cell_type": "code",
   "execution_count": 26,
   "id": "719529f5",
   "metadata": {},
   "outputs": [],
   "source": [
    "#Review_Clean['comments_adj'] = Review_Clean['comments.adj'].apply(stem)"
   ]
  },
  {
   "cell_type": "code",
   "execution_count": 18,
   "id": "1b55d34f",
   "metadata": {},
   "outputs": [],
   "source": [
    "Review_Clean['comments_adj'] = Review_Clean['comments.adj']"
   ]
  },
  {
   "cell_type": "code",
   "execution_count": 19,
   "id": "15ee631b",
   "metadata": {},
   "outputs": [
    {
     "data": {
      "text/html": [
       "<div>\n",
       "<style scoped>\n",
       "    .dataframe tbody tr th:only-of-type {\n",
       "        vertical-align: middle;\n",
       "    }\n",
       "\n",
       "    .dataframe tbody tr th {\n",
       "        vertical-align: top;\n",
       "    }\n",
       "\n",
       "    .dataframe thead th {\n",
       "        text-align: right;\n",
       "    }\n",
       "</style>\n",
       "<table border=\"1\" class=\"dataframe\">\n",
       "  <thead>\n",
       "    <tr style=\"text-align: right;\">\n",
       "      <th></th>\n",
       "      <th>listing_id</th>\n",
       "      <th>id</th>\n",
       "      <th>date</th>\n",
       "      <th>reviewer_id</th>\n",
       "      <th>reviewer_name</th>\n",
       "      <th>comments</th>\n",
       "      <th>host_is_superhost</th>\n",
       "      <th>review_scores_value</th>\n",
       "      <th>comments.adj</th>\n",
       "      <th>comments_adj</th>\n",
       "    </tr>\n",
       "  </thead>\n",
       "  <tbody>\n",
       "    <tr>\n",
       "      <th>0</th>\n",
       "      <td>109</td>\n",
       "      <td>449036</td>\n",
       "      <td>2011-08-15</td>\n",
       "      <td>927861</td>\n",
       "      <td>Edwin</td>\n",
       "      <td>host canceled reservation day arrival</td>\n",
       "      <td>f</td>\n",
       "      <td>4.00</td>\n",
       "      <td>[]</td>\n",
       "      <td>[]</td>\n",
       "    </tr>\n",
       "    <tr>\n",
       "      <th>1</th>\n",
       "      <td>109</td>\n",
       "      <td>74506539</td>\n",
       "      <td>2016-05-15</td>\n",
       "      <td>22509885</td>\n",
       "      <td>Jenn</td>\n",
       "      <td>two friends stayed four half months great comf...</td>\n",
       "      <td>f</td>\n",
       "      <td>4.00</td>\n",
       "      <td>[half, great, comfortable, short, overall, great]</td>\n",
       "      <td>[half, great, comfortable, short, overall, great]</td>\n",
       "    </tr>\n",
       "    <tr>\n",
       "      <th>2</th>\n",
       "      <td>2708</td>\n",
       "      <td>13994902</td>\n",
       "      <td>2014-06-09</td>\n",
       "      <td>10905424</td>\n",
       "      <td>Kuberan</td>\n",
       "      <td>wonderful everything start end perfectbrbrwill...</td>\n",
       "      <td>t</td>\n",
       "      <td>4.85</td>\n",
       "      <td>[wonderful, start]</td>\n",
       "      <td>[wonderful, start]</td>\n",
       "    </tr>\n",
       "    <tr>\n",
       "      <th>3</th>\n",
       "      <td>2708</td>\n",
       "      <td>14606598</td>\n",
       "      <td>2014-06-23</td>\n",
       "      <td>2247288</td>\n",
       "      <td>Camilla</td>\n",
       "      <td>charles amazing made special nice helpful abso...</td>\n",
       "      <td>t</td>\n",
       "      <td>4.85</td>\n",
       "      <td>[special, nice, polite, quiet, tidy, clean, ta...</td>\n",
       "      <td>[special, nice, polite, quiet, tidy, clean, ta...</td>\n",
       "    </tr>\n",
       "    <tr>\n",
       "      <th>4</th>\n",
       "      <td>2708</td>\n",
       "      <td>39597339</td>\n",
       "      <td>2015-07-25</td>\n",
       "      <td>27974696</td>\n",
       "      <td>Fallon</td>\n",
       "      <td>staying chas absolute pleasure accommodating r...</td>\n",
       "      <td>t</td>\n",
       "      <td>4.85</td>\n",
       "      <td>[absolute, respectful, personal, nice, helpful...</td>\n",
       "      <td>[absolute, respectful, personal, nice, helpful...</td>\n",
       "    </tr>\n",
       "  </tbody>\n",
       "</table>\n",
       "</div>"
      ],
      "text/plain": [
       "   listing_id        id        date  reviewer_id reviewer_name  \\\n",
       "0         109    449036  2011-08-15       927861         Edwin   \n",
       "1         109  74506539  2016-05-15     22509885          Jenn   \n",
       "2        2708  13994902  2014-06-09     10905424       Kuberan   \n",
       "3        2708  14606598  2014-06-23      2247288       Camilla   \n",
       "4        2708  39597339  2015-07-25     27974696        Fallon   \n",
       "\n",
       "                                            comments host_is_superhost  \\\n",
       "0              host canceled reservation day arrival                 f   \n",
       "1  two friends stayed four half months great comf...                 f   \n",
       "2  wonderful everything start end perfectbrbrwill...                 t   \n",
       "3  charles amazing made special nice helpful abso...                 t   \n",
       "4  staying chas absolute pleasure accommodating r...                 t   \n",
       "\n",
       "   review_scores_value                                       comments.adj  \\\n",
       "0                 4.00                                                 []   \n",
       "1                 4.00  [half, great, comfortable, short, overall, great]   \n",
       "2                 4.85                                 [wonderful, start]   \n",
       "3                 4.85  [special, nice, polite, quiet, tidy, clean, ta...   \n",
       "4                 4.85  [absolute, respectful, personal, nice, helpful...   \n",
       "\n",
       "                                        comments_adj  \n",
       "0                                                 []  \n",
       "1  [half, great, comfortable, short, overall, great]  \n",
       "2                                 [wonderful, start]  \n",
       "3  [special, nice, polite, quiet, tidy, clean, ta...  \n",
       "4  [absolute, respectful, personal, nice, helpful...  "
      ]
     },
     "execution_count": 19,
     "metadata": {},
     "output_type": "execute_result"
    }
   ],
   "source": [
    "Review_Clean.head()"
   ]
  },
  {
   "cell_type": "markdown",
   "id": "077466c4",
   "metadata": {},
   "source": [
    "### Vander sentiment Analysis for Reviews"
   ]
  },
  {
   "cell_type": "code",
   "execution_count": 24,
   "id": "0f6bf920",
   "metadata": {},
   "outputs": [
    {
     "name": "stdout",
     "output_type": "stream",
     "text": [
      "Requirement already satisfied: vaderSentiment in c:\\users\\hoain\\anaconda3\\lib\\site-packages (3.3.2)\n",
      "Requirement already satisfied: requests in c:\\users\\hoain\\anaconda3\\lib\\site-packages (from vaderSentiment) (2.26.0)\n",
      "Requirement already satisfied: urllib3<1.27,>=1.21.1 in c:\\users\\hoain\\anaconda3\\lib\\site-packages (from requests->vaderSentiment) (1.26.6)\n",
      "Requirement already satisfied: charset-normalizer~=2.0.0 in c:\\users\\hoain\\anaconda3\\lib\\site-packages (from requests->vaderSentiment) (2.0.4)\n",
      "Requirement already satisfied: idna<4,>=2.5 in c:\\users\\hoain\\anaconda3\\lib\\site-packages (from requests->vaderSentiment) (3.2)\n",
      "Requirement already satisfied: certifi>=2017.4.17 in c:\\users\\hoain\\anaconda3\\lib\\site-packages (from requests->vaderSentiment) (2021.10.8)\n"
     ]
    }
   ],
   "source": [
    "!pip install vaderSentiment"
   ]
  },
  {
   "cell_type": "code",
   "execution_count": 20,
   "id": "7a6c4881",
   "metadata": {},
   "outputs": [],
   "source": [
    "from vaderSentiment.vaderSentiment import SentimentIntensityAnalyzer\n",
    "\n",
    "compound_val = []\n",
    "sentiment_text =[]\n",
    "sentiment_class =[]\n",
    "analyzer = SentimentIntensityAnalyzer()\n",
    "\n",
    "for comment in Review_Clean['comments.adj']:\n",
    "    v1 = analyzer.polarity_scores(comment)\n",
    "    score = v1['compound']\n",
    "    compound_val.append(score)\n",
    "    if score >= 0.05:\n",
    "        sentiment_text.append(\"Positive\")\n",
    "        sentiment_class.append(1)\n",
    "    elif (score > -0.05) and (score < 0.05):\n",
    "        sentiment_text.append(\"Neutral\")\n",
    "        sentiment_class.append(0)\n",
    "    elif score <= -0.05:\n",
    "        sentiment_text.append(\"Negative\")\n",
    "        sentiment_class.append(-1)\n",
    "        "
   ]
  },
  {
   "cell_type": "code",
   "execution_count": 21,
   "id": "44c374d3",
   "metadata": {},
   "outputs": [
    {
     "data": {
      "text/html": [
       "<div>\n",
       "<style scoped>\n",
       "    .dataframe tbody tr th:only-of-type {\n",
       "        vertical-align: middle;\n",
       "    }\n",
       "\n",
       "    .dataframe tbody tr th {\n",
       "        vertical-align: top;\n",
       "    }\n",
       "\n",
       "    .dataframe thead th {\n",
       "        text-align: right;\n",
       "    }\n",
       "</style>\n",
       "<table border=\"1\" class=\"dataframe\">\n",
       "  <thead>\n",
       "    <tr style=\"text-align: right;\">\n",
       "      <th></th>\n",
       "      <th>listing_id</th>\n",
       "      <th>id</th>\n",
       "      <th>date</th>\n",
       "      <th>reviewer_id</th>\n",
       "      <th>reviewer_name</th>\n",
       "      <th>comments</th>\n",
       "      <th>host_is_superhost</th>\n",
       "      <th>review_scores_value</th>\n",
       "      <th>comments.adj</th>\n",
       "      <th>comments_adj</th>\n",
       "      <th>Sentiment_Emotion</th>\n",
       "      <th>Sentiment_Score</th>\n",
       "      <th>Sentiment_Class</th>\n",
       "    </tr>\n",
       "  </thead>\n",
       "  <tbody>\n",
       "    <tr>\n",
       "      <th>0</th>\n",
       "      <td>109</td>\n",
       "      <td>449036</td>\n",
       "      <td>2011-08-15</td>\n",
       "      <td>927861</td>\n",
       "      <td>Edwin</td>\n",
       "      <td>host canceled reservation day arrival</td>\n",
       "      <td>f</td>\n",
       "      <td>4.00</td>\n",
       "      <td>[]</td>\n",
       "      <td>[]</td>\n",
       "      <td>Neutral</td>\n",
       "      <td>0.0</td>\n",
       "      <td>0</td>\n",
       "    </tr>\n",
       "    <tr>\n",
       "      <th>1</th>\n",
       "      <td>109</td>\n",
       "      <td>74506539</td>\n",
       "      <td>2016-05-15</td>\n",
       "      <td>22509885</td>\n",
       "      <td>Jenn</td>\n",
       "      <td>two friends stayed four half months great comf...</td>\n",
       "      <td>f</td>\n",
       "      <td>4.00</td>\n",
       "      <td>[half, great, comfortable, short, overall, great]</td>\n",
       "      <td>[half, great, comfortable, short, overall, great]</td>\n",
       "      <td>Neutral</td>\n",
       "      <td>0.0</td>\n",
       "      <td>0</td>\n",
       "    </tr>\n",
       "    <tr>\n",
       "      <th>2</th>\n",
       "      <td>2708</td>\n",
       "      <td>13994902</td>\n",
       "      <td>2014-06-09</td>\n",
       "      <td>10905424</td>\n",
       "      <td>Kuberan</td>\n",
       "      <td>wonderful everything start end perfectbrbrwill...</td>\n",
       "      <td>t</td>\n",
       "      <td>4.85</td>\n",
       "      <td>[wonderful, start]</td>\n",
       "      <td>[wonderful, start]</td>\n",
       "      <td>Neutral</td>\n",
       "      <td>0.0</td>\n",
       "      <td>0</td>\n",
       "    </tr>\n",
       "    <tr>\n",
       "      <th>3</th>\n",
       "      <td>2708</td>\n",
       "      <td>14606598</td>\n",
       "      <td>2014-06-23</td>\n",
       "      <td>2247288</td>\n",
       "      <td>Camilla</td>\n",
       "      <td>charles amazing made special nice helpful abso...</td>\n",
       "      <td>t</td>\n",
       "      <td>4.85</td>\n",
       "      <td>[special, nice, polite, quiet, tidy, clean, ta...</td>\n",
       "      <td>[special, nice, polite, quiet, tidy, clean, ta...</td>\n",
       "      <td>Neutral</td>\n",
       "      <td>0.0</td>\n",
       "      <td>0</td>\n",
       "    </tr>\n",
       "    <tr>\n",
       "      <th>4</th>\n",
       "      <td>2708</td>\n",
       "      <td>39597339</td>\n",
       "      <td>2015-07-25</td>\n",
       "      <td>27974696</td>\n",
       "      <td>Fallon</td>\n",
       "      <td>staying chas absolute pleasure accommodating r...</td>\n",
       "      <td>t</td>\n",
       "      <td>4.85</td>\n",
       "      <td>[absolute, respectful, personal, nice, helpful...</td>\n",
       "      <td>[absolute, respectful, personal, nice, helpful...</td>\n",
       "      <td>Neutral</td>\n",
       "      <td>0.0</td>\n",
       "      <td>0</td>\n",
       "    </tr>\n",
       "  </tbody>\n",
       "</table>\n",
       "</div>"
      ],
      "text/plain": [
       "   listing_id        id        date  reviewer_id reviewer_name  \\\n",
       "0         109    449036  2011-08-15       927861         Edwin   \n",
       "1         109  74506539  2016-05-15     22509885          Jenn   \n",
       "2        2708  13994902  2014-06-09     10905424       Kuberan   \n",
       "3        2708  14606598  2014-06-23      2247288       Camilla   \n",
       "4        2708  39597339  2015-07-25     27974696        Fallon   \n",
       "\n",
       "                                            comments host_is_superhost  \\\n",
       "0              host canceled reservation day arrival                 f   \n",
       "1  two friends stayed four half months great comf...                 f   \n",
       "2  wonderful everything start end perfectbrbrwill...                 t   \n",
       "3  charles amazing made special nice helpful abso...                 t   \n",
       "4  staying chas absolute pleasure accommodating r...                 t   \n",
       "\n",
       "   review_scores_value                                       comments.adj  \\\n",
       "0                 4.00                                                 []   \n",
       "1                 4.00  [half, great, comfortable, short, overall, great]   \n",
       "2                 4.85                                 [wonderful, start]   \n",
       "3                 4.85  [special, nice, polite, quiet, tidy, clean, ta...   \n",
       "4                 4.85  [absolute, respectful, personal, nice, helpful...   \n",
       "\n",
       "                                        comments_adj Sentiment_Emotion  \\\n",
       "0                                                 []           Neutral   \n",
       "1  [half, great, comfortable, short, overall, great]           Neutral   \n",
       "2                                 [wonderful, start]           Neutral   \n",
       "3  [special, nice, polite, quiet, tidy, clean, ta...           Neutral   \n",
       "4  [absolute, respectful, personal, nice, helpful...           Neutral   \n",
       "\n",
       "   Sentiment_Score  Sentiment_Class  \n",
       "0              0.0                0  \n",
       "1              0.0                0  \n",
       "2              0.0                0  \n",
       "3              0.0                0  \n",
       "4              0.0                0  "
      ]
     },
     "execution_count": 21,
     "metadata": {},
     "output_type": "execute_result"
    }
   ],
   "source": [
    "Review_Clean['Sentiment_Emotion'] = sentiment_text\n",
    "Review_Clean['Sentiment_Score'] = compound_val\n",
    "Review_Clean['Sentiment_Class'] = sentiment_class\n",
    "Review_Clean.head()"
   ]
  },
  {
   "cell_type": "code",
   "execution_count": 22,
   "id": "127e52a2",
   "metadata": {},
   "outputs": [],
   "source": [
    "Review_Clean.to_csv('SentimentReview2.csv', header = True, index = False)"
   ]
  },
  {
   "cell_type": "code",
   "execution_count": null,
   "id": "fc9064c0",
   "metadata": {},
   "outputs": [],
   "source": []
  }
 ],
 "metadata": {
  "kernelspec": {
   "display_name": "Python 3 (ipykernel)",
   "language": "python",
   "name": "python3"
  },
  "language_info": {
   "codemirror_mode": {
    "name": "ipython",
    "version": 3
   },
   "file_extension": ".py",
   "mimetype": "text/x-python",
   "name": "python",
   "nbconvert_exporter": "python",
   "pygments_lexer": "ipython3",
   "version": "3.8.5"
  }
 },
 "nbformat": 4,
 "nbformat_minor": 5
}
